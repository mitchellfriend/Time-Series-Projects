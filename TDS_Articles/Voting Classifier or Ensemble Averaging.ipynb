{
 "cells": [
  {
   "cell_type": "markdown",
   "id": "7ca1f216-281f-49c8-9b25-092443a4c5b7",
   "metadata": {
    "tags": []
   },
   "source": [
    "# Ensemble Averaging\n",
    "- Engineering multiple different models and allow them to form an opinion toward the final prediction.\n",
    "- Train each of the predictive models using the same set of training data\n",
    "- Predict the result by using each and every models and average their values"
   ]
  },
  {
   "cell_type": "markdown",
   "id": "c47763a2-3538-482c-9c32-ef50388bf8ba",
   "metadata": {},
   "source": [
    "## How to Apply\n",
    "1. Develop multiple predictive models that are each capable of making their own predictions\n",
    "2. Train each of the predictive models using the same set of training data\n",
    "3. Predict the result by using each and every models and average their values"
   ]
  },
  {
   "cell_type": "markdown",
   "id": "f3be7860-30d1-455e-b903-258dad24e9fb",
   "metadata": {},
   "source": [
    "## Why Does it work\n",
    "\n",
    "- Bias and Variance\n",
    "- Bias: High Bias has Lower flexibility and underfits\n",
    "- Variance: measures how the performance of the model on different training data. High variance leads to overfitting"
   ]
  },
  {
   "cell_type": "markdown",
   "id": "ebc8fd19-1292-41de-9d3e-33e28b8ebfe9",
   "metadata": {},
   "source": [
    "### Import Modules"
   ]
  },
  {
   "cell_type": "code",
   "execution_count": 7,
   "id": "4e4dc623-0f88-4a74-9dcb-1a7f47712d4e",
   "metadata": {},
   "outputs": [],
   "source": [
    "from sklearn.datasets import make_classification\n",
    "from sklearn.model_selection import train_test_split\n",
    "from sklearn.metrics import accuracy_score\n",
    "from sklearn.tree import DecisionTreeClassifier\n",
    "from sklearn.naive_bayes import GaussianNB\n",
    "from sklearn.ensemble import VotingClassifier \n",
    "from sklearn.neighbors import KNeighborsClassifier"
   ]
  },
  {
   "cell_type": "markdown",
   "id": "2f945687-78ff-4798-a5f4-269db61a1790",
   "metadata": {},
   "source": [
    "### Make dataset with 50 features and 10000"
   ]
  },
  {
   "cell_type": "code",
   "execution_count": 4,
   "id": "68239a1d-46eb-4664-8f4c-749cde6fe4c5",
   "metadata": {},
   "outputs": [],
   "source": [
    "X, y = make_classification(n_samples=10000, n_features=50, n_redundant= 15, random_state=42)\n",
    "X_train, X_test, y_train, y_test = train_test_split(X, y, test_size=0.30, random_state=43)"
   ]
  },
  {
   "cell_type": "markdown",
   "id": "654fb6a1-61cc-4834-805c-7195fd5a5877",
   "metadata": {},
   "source": [
    "# Classification"
   ]
  },
  {
   "cell_type": "markdown",
   "id": "455b67c8-a71c-42b5-b172-af63021602c6",
   "metadata": {},
   "source": [
    "### Train and Test 3 separate models"
   ]
  },
  {
   "cell_type": "code",
   "execution_count": 5,
   "id": "4510a0ee-7e50-4a2d-b3bd-21f174da115c",
   "metadata": {},
   "outputs": [
    {
     "name": "stdout",
     "output_type": "stream",
     "text": [
      "Decision Tree Model Accuracy: 0.9066666666666666\n",
      "KNN Model Accuracy: 0.9003333333333333\n",
      "Naive Bayes Model Accuracy: 0.884\n"
     ]
    }
   ],
   "source": [
    "models = [('Decision Tree', DecisionTreeClassifier()),\n",
    "         ('KNN', KNeighborsClassifier()),\n",
    "         ('Naive Bayes', GaussianNB())]\n",
    "for name, model in models:\n",
    "    model.fit(X_train, y_train)\n",
    "    \n",
    "    prediction = model.predict(X_test)\n",
    "    score = accuracy_score(y_test, prediction)\n",
    "    print('{} Model Accuracy: {}'.format(name,score))"
   ]
  },
  {
   "cell_type": "markdown",
   "id": "3f687792-5195-464e-9cc0-388c9d36370b",
   "metadata": {},
   "source": [
    "### Voting classifier accuracy"
   ]
  },
  {
   "cell_type": "code",
   "execution_count": 6,
   "id": "5c64fecf-ed7d-4a20-8c47-cec0b8601a2c",
   "metadata": {},
   "outputs": [
    {
     "name": "stdout",
     "output_type": "stream",
     "text": [
      "Ensemble Model Accuracy: 0.9153333333333333\n"
     ]
    }
   ],
   "source": [
    "ensemble = VotingClassifier(estimators=models)\n",
    "ensemble.fit(X_train, y_train)\n",
    "prediction = ensemble.predict(X_test)\n",
    "score = accuracy_score(y_test, prediction)\n",
    "print('Ensemble Model Accuracy: {}'.format(score))"
   ]
  },
  {
   "cell_type": "markdown",
   "id": "e4c8f202-0fe9-4f43-9626-a489cebab705",
   "metadata": {},
   "source": [
    "# Regression"
   ]
  },
  {
   "cell_type": "code",
   "execution_count": 11,
   "id": "49620916-720e-4efb-9518-a7623245d31c",
   "metadata": {},
   "outputs": [],
   "source": [
    "import numpy as np\n",
    "from sklearn.datasets import make_classification\n",
    "from sklearn.model_selection import train_test_split\n",
    "from sklearn.metrics import mean_squared_error\n",
    "from sklearn.datasets import make_regression\n",
    "from sklearn.svm import SVR\n",
    "from sklearn.tree import DecisionTreeRegressor\n",
    "from sklearn.neighbors import KNeighborsRegressor\n",
    "from sklearn.ensemble import VotingRegressor"
   ]
  },
  {
   "cell_type": "code",
   "execution_count": 12,
   "id": "92ddb3d1-a5ab-4e18-98dc-5de6a7464348",
   "metadata": {},
   "outputs": [],
   "source": [
    "X, y = make_regression(n_samples=10000, n_features=10, random_state=42)\n",
    "X_train, X_test, y_train, y_test = train_test_split(X, y, test_size=0.30, random_state=43)"
   ]
  },
  {
   "cell_type": "code",
   "execution_count": 17,
   "id": "beb94a89-34aa-45df-a54a-58a2d4cc8e0c",
   "metadata": {},
   "outputs": [
    {
     "name": "stdout",
     "output_type": "stream",
     "text": [
      "Support Vector Model RMSE: 63.22316958162251\n",
      "Decision Tree Model RMSE: 82.15828410504501\n",
      "KNN Model RMSE: 52.76639058475637\n"
     ]
    }
   ],
   "source": [
    "models = [('Support Vector', SVR()),\n",
    "         ('Decision Tree', DecisionTreeRegressor()),\n",
    "         ('KNN', KNeighborsRegressor())]\n",
    "scores = []\n",
    "for name, model in models:\n",
    "    model.fit(X_train, y_train)\n",
    "    \n",
    "    prediction = model.predict(X_test)\n",
    "    score = mean_squared_error(y_test, prediction, squared = False)\n",
    "    scores.append(score)\n",
    "    print('{} Model RMSE: {}'.format(name,score))"
   ]
  },
  {
   "cell_type": "code",
   "execution_count": 18,
   "id": "837c7b2c-0b4f-4436-ac53-e82e077a7202",
   "metadata": {},
   "outputs": [
    {
     "name": "stdout",
     "output_type": "stream",
     "text": [
      "Ensemble Model RMSE: 50.988429787045675\n"
     ]
    }
   ],
   "source": [
    "ensemble = VotingRegressor(estimators=models)\n",
    "ensemble.fit(X_train, y_train)\n",
    "prediction = ensemble.predict(X_test)\n",
    "score = mean_squared_error(y_test, prediction, squared = False)\n",
    "print('Ensemble Model RMSE: {}'.format(score))"
   ]
  },
  {
   "cell_type": "code",
   "execution_count": null,
   "id": "bf67e412-cf55-431e-b36e-acc36cf9cff5",
   "metadata": {},
   "outputs": [],
   "source": [
    "#"
   ]
  }
 ],
 "metadata": {
  "kernelspec": {
   "display_name": "Python 3 (ipykernel)",
   "language": "python",
   "name": "python3"
  },
  "language_info": {
   "codemirror_mode": {
    "name": "ipython",
    "version": 3
   },
   "file_extension": ".py",
   "mimetype": "text/x-python",
   "name": "python",
   "nbconvert_exporter": "python",
   "pygments_lexer": "ipython3",
   "version": "3.9.5"
  }
 },
 "nbformat": 4,
 "nbformat_minor": 5
}
